{
 "cells": [
  {
   "cell_type": "markdown",
   "metadata": {},
   "source": [
    "# Examples"
   ]
  },
  {
   "cell_type": "markdown",
   "metadata": {},
   "source": [
    "This Jupyter notebook shows some examples for the different functions of the Matlab class `repet`.\n",
    "\n",
    "Functions:\n",
    "- [`original`](#original) - Compute the original REPET.\n",
    "- [`extended`](#extended) - Compute REPET extended.\n",
    "- [`adaptive`](#adaptive) - Compute the adaptive REPET.\n",
    "- [`sim`](#sim) - Compute REPET-SIM.\n",
    "- [`simonline`](#simonline) - Compute the online REPET-SIM.\n",
    "\n",
    "Other:\n",
    "- `specshow` - Display a spectrogram in dB, seconds, and Hz.\n",
    "\n",
    "\n",
    "Author:\n",
    "- Zafar Rafii\n",
    "- zafarrafii@gmail.com\n",
    "- http://zafarrafii.com\n",
    "- https://github.com/zafarrafii\n",
    "- https://www.linkedin.com/in/zafarrafii/\n",
    "- 01/21/21"
   ]
  },
  {
   "cell_type": "markdown",
   "metadata": {},
   "source": [
    "## <a id=\"original\"></a>original"
   ]
  },
  {
   "cell_type": "markdown",
   "metadata": {},
   "source": [
    "Compute the original REPET.\n",
    "\n",
    "```\n",
    "background_signal = repet.original(audio_signal, sampling_frequency)\n",
    "\n",
    "Inputs:\n",
    "    audio_signal: audio signal (number_samples, number_channels)\n",
    "    sampling_frequency: sampling frequency in Hz\n",
    "Output:\n",
    "    background_signal: background signal (number_samples, number_channels)\n",
    "```"
   ]
  },
  {
   "cell_type": "markdown",
   "metadata": {},
   "source": [
    "### Example: Estimate the background and foreground signals, and display their spectrograms."
   ]
  },
  {
   "cell_type": "code",
   "execution_count": null,
   "metadata": {},
   "outputs": [],
   "source": [
    "% Read the audio signal and return the sample rate\n",
    "[audio_signal,sample_rate] = audioread('audio_file.wav');\n",
    "\n",
    "% Estimate the background signal and infer the foreground signal\n",
    "background_signal = repet.sim(audio_signal,sample_rate);\n",
    "foreground_signal = audio_signal-background_signal;\n",
    "\n",
    "% Write the background and foreground signals\n",
    "audiowrite('background_signal.wav',background_signal,sample_rate)\n",
    "audiowrite('foreground_signal.wav',foreground_signal,sample_rate)\n",
    "\n",
    "% Compute the audio, background, and foreground spectrograms\n",
    "window_length = 2^nextpow2(0.04*sample_rate);\n",
    "step_length = window_length/2;\n",
    "window_function = hamming(window_length,'periodic');\n",
    "audio_spectrogram = abs(spectrogram(mean(audio_signal,2),window_length,window_length-step_length));\n",
    "background_spectrogram = abs(spectrogram(mean(background_signal,2),window_length,window_length-step_length));\n",
    "foreground_spectrogram = abs(spectrogram(mean(foreground_signal,2),window_length,window_length-step_length));\n",
    "\n",
    "% Display the audio, background, and foreground spectrograms (up to 5kHz)\n",
    "figure\n",
    "subplot(3,1,1), imagesc(db(audio_spectrogram(2:window_length/8,:))), axis xy\n",
    "title('Audio Spectrogram (dB)')\n",
    "xticks(round((1:floor(length(audio_signal)/sample_rate))*sample_rate/step_length))\n",
    "xticklabels(1:floor(length(audio_signal)/sample_rate)), xlabel('Time (s)')\n",
    "yticks(round((1e3:1e3:sample_rate/8)/sample_rate*window_length))\n",
    "yticklabels(1:sample_rate/8*1e-3), ylabel('Frequency (kHz)')\n",
    "set(gca,'FontSize',30)\n",
    "subplot(3,1,2), imagesc(db(background_spectrogram(2:window_length/8,:))), axis xy\n",
    "title('Background Spectrogram (dB)')\n",
    "xticks(round((1:floor(length(audio_signal)/sample_rate))*sample_rate/step_length))\n",
    "xticklabels(1:floor(length(audio_signal)/sample_rate)), xlabel('Time (s)')\n",
    "yticks(round((1e3:1e3:sample_rate/8)/sample_rate*window_length))\n",
    "yticklabels(1:sample_rate/8*1e-3), ylabel('Frequency (kHz)')\n",
    "set(gca,'FontSize',30)\n",
    "subplot(3,1,3), imagesc(db(foreground_spectrogram(2:window_length/8,:))), axis xy\n",
    "title('Foreground Spectrogram (dB)')\n",
    "xticks(round((1:floor(length(audio_signal)/sample_rate))*sample_rate/step_length))\n",
    "xticklabels(1:floor(length(audio_signal)/sample_rate)), xlabel('Time (s)')\n",
    "yticks(round((1e3:1e3:sample_rate/8)/sample_rate*window_length))\n",
    "yticklabels(1:sample_rate/8*1e-3), ylabel('Frequency (kHz)')\n",
    "set(gca,'FontSize',30)\n",
    "colormap(jet)\n"
   ]
  },
  {
   "cell_type": "markdown",
   "metadata": {},
   "source": [
    "## <a id=\"extended\"></a>extended"
   ]
  },
  {
   "cell_type": "markdown",
   "metadata": {},
   "source": [
    "Compute REPET extended.\n",
    "\n",
    "```\n",
    "background_signal = repet.extended(audio_signal, sampling_frequency)\n",
    "\n",
    "Inputs:\n",
    "    audio_signal: audio signal (number_samples, number_channels)\n",
    "    sampling_frequency: sampling frequency in Hz\n",
    "Output:\n",
    "    background_signal: background signal (number_samples, number_channels)\n",
    "```"
   ]
  },
  {
   "cell_type": "markdown",
   "metadata": {},
   "source": [
    "### Example: Estimate the background and foreground signals, and display their spectrograms."
   ]
  },
  {
   "cell_type": "code",
   "execution_count": null,
   "metadata": {},
   "outputs": [],
   "source": []
  },
  {
   "cell_type": "markdown",
   "metadata": {},
   "source": [
    "## <a id=\"adaptive\"></a>adaptive"
   ]
  },
  {
   "cell_type": "markdown",
   "metadata": {},
   "source": [
    "Compute the adaptive REPET.\n",
    "\n",
    "```\n",
    "background_signal = repet.adaptive(audio_signal, sampling_frequency)\n",
    "\n",
    "Inputs:\n",
    "    audio_signal: audio signal (number_samples, number_channels)\n",
    "    sampling_frequency: sampling frequency in Hz\n",
    "Output:\n",
    "    background_signal: background signal (number_samples, number_channels)\n",
    "```"
   ]
  },
  {
   "cell_type": "markdown",
   "metadata": {},
   "source": [
    "### Example: Estimate the background and foreground signals, and display their spectrograms."
   ]
  },
  {
   "cell_type": "code",
   "execution_count": null,
   "metadata": {},
   "outputs": [],
   "source": []
  },
  {
   "cell_type": "markdown",
   "metadata": {},
   "source": [
    "## <a id=\"sim\"></a>sim"
   ]
  },
  {
   "cell_type": "markdown",
   "metadata": {},
   "source": [
    "Compute REPET-SIM.\n",
    "\n",
    "```\n",
    "background_signal = repet.sim(audio_signal, sampling_frequency)\n",
    "\n",
    "Inputs:\n",
    "    audio_signal: audio signal (number_samples, number_channels)\n",
    "    sampling_frequency: sampling frequency in Hz\n",
    "Output:\n",
    "    background_signal: background signal (number_samples, number_channels)\n",
    "```"
   ]
  },
  {
   "cell_type": "markdown",
   "metadata": {},
   "source": [
    "### Example: Estimate the background and foreground signals, and display their spectrograms."
   ]
  },
  {
   "cell_type": "code",
   "execution_count": null,
   "metadata": {},
   "outputs": [],
   "source": []
  },
  {
   "cell_type": "markdown",
   "metadata": {},
   "source": [
    "## <a id=\"simonline\"></a>simonline"
   ]
  },
  {
   "cell_type": "markdown",
   "metadata": {},
   "source": [
    "Compute the online REPET-SIM.\n",
    "\n",
    "```\n",
    "background_signal = repet.simonline(audio_signal, sampling_frequency)\n",
    "\n",
    "Inputs:\n",
    "    audio_signal: audio signal (number_samples, number_channels)\n",
    "    sampling_frequency: sampling frequency in Hz\n",
    "Output:\n",
    "    background_signal: background signal (number_samples, number_channels)\n",
    "```"
   ]
  },
  {
   "cell_type": "markdown",
   "metadata": {},
   "source": [
    "### Example: Estimate the background and foreground signals, and display their spectrograms."
   ]
  },
  {
   "cell_type": "code",
   "execution_count": null,
   "metadata": {},
   "outputs": [],
   "source": []
  }
 ],
 "metadata": {
  "kernelspec": {
   "display_name": "Matlab",
   "language": "matlab",
   "name": "matlab"
  },
  "language_info": {
   "codemirror_mode": "octave",
   "file_extension": ".m",
   "help_links": [
    {
     "text": "MetaKernel Magics",
     "url": "https://metakernel.readthedocs.io/en/latest/source/README.html"
    }
   ],
   "mimetype": "text/x-octave",
   "name": "matlab",
   "version": "0.16.11"
  }
 },
 "nbformat": 4,
 "nbformat_minor": 4
}
